{
  "nbformat": 4,
  "nbformat_minor": 0,
  "metadata": {
    "colab": {
      "name": "TP1 - NLP",
      "provenance": [],
      "collapsed_sections": [
        "9Canr5jCOZqJ"
      ],
      "include_colab_link": true
    },
    "kernelspec": {
      "name": "python3",
      "display_name": "Python 3"
    },
    "language_info": {
      "name": "python"
    }
  },
  "cells": [
    {
      "cell_type": "markdown",
      "metadata": {
        "id": "view-in-github",
        "colab_type": "text"
      },
      "source": [
        "<a href=\"https://colab.research.google.com/github/ingridlagares/nlp_class/blob/main/TP1_NLP.ipynb\" target=\"_parent\"><img src=\"https://colab.research.google.com/assets/colab-badge.svg\" alt=\"Open In Colab\"/></a>"
      ]
    },
    {
      "cell_type": "markdown",
      "metadata": {
        "id": "9Canr5jCOZqJ"
      },
      "source": [
        "# Dependências"
      ]
    },
    {
      "cell_type": "code",
      "source": [
        "import pandas as pd\n",
        "import matplotlib.pyplot as plt\n",
        "\n",
        "import seaborn as sns"
      ],
      "metadata": {
        "id": "rluDxNrM0t8Q"
      },
      "execution_count": null,
      "outputs": []
    },
    {
      "cell_type": "code",
      "metadata": {
        "id": "uwzZykgOCOk6"
      },
      "source": [
        "pip install -U spacy"
      ],
      "execution_count": null,
      "outputs": []
    },
    {
      "cell_type": "code",
      "metadata": {
        "id": "IVtgwub_NT2M"
      },
      "source": [
        "pip install -U spacy-lookups-data"
      ],
      "execution_count": null,
      "outputs": []
    },
    {
      "cell_type": "code",
      "metadata": {
        "id": "w_JFz_gKGRBb"
      },
      "source": [
        "pip install -U gensim"
      ],
      "execution_count": null,
      "outputs": []
    },
    {
      "cell_type": "code",
      "metadata": {
        "id": "86js3N5yGZLS"
      },
      "source": [
        "!python -m spacy download en_core_web_md #pre-trained model"
      ],
      "execution_count": null,
      "outputs": []
    },
    {
      "cell_type": "markdown",
      "metadata": {
        "id": "WYGBYRCUOldw"
      },
      "source": [
        "# **Corpus**"
      ]
    },
    {
      "cell_type": "code",
      "source": [
        "from google.colab import drive\n",
        "drive.mount('/content/drive')"
      ],
      "metadata": {
        "id": "0as4shZgHMCq"
      },
      "execution_count": null,
      "outputs": []
    },
    {
      "cell_type": "code",
      "metadata": {
        "id": "hySAWctEELng"
      },
      "source": [
        "corpus = open('/content/drive/MyDrive/NLP/text8').read()"
      ],
      "execution_count": null,
      "outputs": []
    },
    {
      "cell_type": "code",
      "metadata": {
        "id": "KJNaxLTAEPVp",
        "colab": {
          "base_uri": "https://localhost:8080/"
        },
        "outputId": "24f27b02-0e91-4611-cbcf-d1e0d2b036d7"
      },
      "source": [
        "import spacy\n",
        "nlp = spacy.load('en_core_web_md')\n",
        "nlp.max_length = len(corpus)+1024\n",
        "nlp.add_pipe('sentencizer') "
      ],
      "execution_count": null,
      "outputs": [
        {
          "output_type": "execute_result",
          "data": {
            "text/plain": [
              "<spacy.pipeline.sentencizer.Sentencizer at 0x7fa7b75059b0>"
            ]
          },
          "metadata": {},
          "execution_count": 65
        }
      ]
    },
    {
      "cell_type": "code",
      "metadata": {
        "id": "LArgSljjGud-"
      },
      "source": [
        "doc = nlp(corpus[0:200000])"
      ],
      "execution_count": null,
      "outputs": []
    },
    {
      "cell_type": "markdown",
      "metadata": {
        "id": "MhhOPywESIUV"
      },
      "source": [
        "# **Preprocessing**"
      ]
    },
    {
      "cell_type": "code",
      "metadata": {
        "id": "FezTJq1wEwHB"
      },
      "source": [
        "def clean(doc):\n",
        "  clean_doc = list(\n",
        "      filter(\n",
        "          lambda x: x.is_alpha and len(x) > 2 and not x.is_stop, \n",
        "          doc\n",
        "      )\n",
        "  )\n",
        "\n",
        "  return clean_doc"
      ],
      "execution_count": null,
      "outputs": []
    },
    {
      "cell_type": "code",
      "metadata": {
        "id": "TGSDObzjLgCD"
      },
      "source": [
        "clean_sentences = [list(map(lambda x: x.text, clean(sent))) for sent in doc.sents]\n",
        "\n",
        "print(clean_sentences)"
      ],
      "execution_count": null,
      "outputs": []
    },
    {
      "cell_type": "markdown",
      "metadata": {
        "id": "8CaeFcyKSmyB"
      },
      "source": [
        "# **Word2Vec**"
      ]
    },
    {
      "cell_type": "code",
      "metadata": {
        "id": "zRMtOg07OTQR"
      },
      "source": [
        "from gensim.models import Word2Vec\n",
        "\n",
        "def gen_trained_w2v(sentences, min_count=1, window=6, sample=6e-5, alpha=0.03, min_alpha=0.0007, negative=20, sg=1, epochs=30):\n",
        "  w2v = Word2Vec(\n",
        "    min_count=min_count,\n",
        "    window=window,\n",
        "    sample=sample,\n",
        "    alpha=alpha, \n",
        "    min_alpha=min_alpha, \n",
        "    negative=negative,\n",
        "    sg=sg\n",
        "  )\n",
        "\n",
        "  w2v.build_vocab(sentences)\n",
        "  w2v.train(sentences, total_examples=w2v.corpus_count, epochs=epochs)\n",
        "\n",
        "  return w2v"
      ],
      "execution_count": null,
      "outputs": []
    },
    {
      "cell_type": "markdown",
      "source": [
        "# **Evaluation**"
      ],
      "metadata": {
        "id": "UYEyO4GwCYj8"
      }
    },
    {
      "cell_type": "code",
      "source": [
        "vocab = open('/content/drive/MyDrive/NLP/questions-words.txt', 'r').readlines()"
      ],
      "metadata": {
        "id": "mpdEjiqqMy-p"
      },
      "execution_count": null,
      "outputs": []
    },
    {
      "cell_type": "code",
      "source": [
        "from collections import defaultdict as dd\n",
        "\n",
        "def compare(trained_w2v, vocab):\n",
        "  result = dict()\n",
        "  tokenized_vocab = [line.rstrip().lower().split() for line in vocab if line.find(':') == -1]\n",
        "\n",
        "  for words in tokenized_vocab:\n",
        "    try:\n",
        "      similarities = trained_w2v.wv.most_similar(positive=[words[0], words[1], words[2]], topn=10)\n",
        "\n",
        "      topo = similarities[0]\n",
        "      similarity = trained_w2v.wv.similarity(topo[0], words[3])\n",
        "\n",
        "      diff = float(topo[1]) - similarity\n",
        "      result[words[3] + '<->' + str(topo[0])] = diff\n",
        "    except:\n",
        "      pass\n",
        "\n",
        "  return result"
      ],
      "metadata": {
        "id": "WGjC7TvnKyi0"
      },
      "execution_count": null,
      "outputs": []
    },
    {
      "cell_type": "markdown",
      "source": [
        "## CBOW"
      ],
      "metadata": {
        "id": "fni-YaYKJSK3"
      }
    },
    {
      "cell_type": "code",
      "source": [
        "# CBOW variando tamanho da janela\n",
        "sg = 0\n",
        "window_range = range(1, 20)\n",
        "y_axis = []\n",
        "\n",
        "n_sentences = len(clean_sentences)\n",
        "for window in window_range:\n",
        "    print(\"Training with %s, window size = %d and %d training sentences\" % (\"SkipGram\" if sg else \"CBOW\", window, n_sentences))\n",
        "    trained_w2v = gen_trained_w2v(clean_sentences[:n_sentences], window=window, sg=sg)\n",
        "    errors = compare(trained_w2v, vocab)\n",
        "    error_avg = sum(errors.values())/len(errors)\n",
        "    y_axis.append(error_avg)\n",
        "\n",
        "    print(\"Error Average: %.8f\" % error_avg)\n",
        "\n",
        "plt.plot(window_range, y_axis)\n",
        "plt.title(\"Erro por tamanho da janela (CBOW)\")\n",
        "plt.show()\n"
      ],
      "metadata": {
        "colab": {
          "base_uri": "https://localhost:8080/",
          "height": 941
        },
        "outputId": "7fcf65a0-8942-4855-89fa-b94cd1b71263",
        "id": "g8fqhMJuFwVJ"
      },
      "execution_count": null,
      "outputs": [
        {
          "output_type": "stream",
          "name": "stdout",
          "text": [
            "Training with CBOW, window size = 1 and 81 training sentences\n",
            "Error Average: 0.00046140\n",
            "Training with CBOW, window size = 2 and 81 training sentences\n",
            "Error Average: 0.00038582\n",
            "Training with CBOW, window size = 3 and 81 training sentences\n",
            "Error Average: 0.00033357\n",
            "Training with CBOW, window size = 4 and 81 training sentences\n",
            "Error Average: 0.00030228\n",
            "Training with CBOW, window size = 5 and 81 training sentences\n",
            "Error Average: 0.00031851\n",
            "Training with CBOW, window size = 6 and 81 training sentences\n",
            "Error Average: 0.00028879\n",
            "Training with CBOW, window size = 7 and 81 training sentences\n",
            "Error Average: 0.00029313\n",
            "Training with CBOW, window size = 8 and 81 training sentences\n",
            "Error Average: 0.00026803\n",
            "Training with CBOW, window size = 9 and 81 training sentences\n",
            "Error Average: 0.00029585\n",
            "Training with CBOW, window size = 10 and 81 training sentences\n",
            "Error Average: 0.00025900\n",
            "Training with CBOW, window size = 11 and 81 training sentences\n",
            "Error Average: 0.00029230\n",
            "Training with CBOW, window size = 12 and 81 training sentences\n",
            "Error Average: 0.00027427\n",
            "Training with CBOW, window size = 13 and 81 training sentences\n",
            "Error Average: 0.00027427\n",
            "Training with CBOW, window size = 14 and 81 training sentences\n",
            "Error Average: 0.00026372\n",
            "Training with CBOW, window size = 15 and 81 training sentences\n",
            "Error Average: 0.00029077\n",
            "Training with CBOW, window size = 16 and 81 training sentences\n",
            "Error Average: 0.00027436\n",
            "Training with CBOW, window size = 17 and 81 training sentences\n",
            "Error Average: 0.00029636\n",
            "Training with CBOW, window size = 18 and 81 training sentences\n",
            "Error Average: 0.00032554\n",
            "Training with CBOW, window size = 19 and 81 training sentences\n",
            "Error Average: 0.00033181\n"
          ]
        },
        {
          "output_type": "display_data",
          "data": {
            "image/png": "[encoded data removed]",
            "text/plain": [
              "<Figure size 432x288 with 1 Axes>"
            ]
          },
          "metadata": {
            "needs_background": "light"
          }
        }
      ]
    },
    {
      "cell_type": "code",
      "source": [
        "# CBOW variando tamanho da entrada\n",
        "sg = 0\n",
        "window = 4\n",
        "input_range = range(10, 36)\n",
        "y_axis = []\n",
        "\n",
        "for n_sentences in input_range:\n",
        "    print(\"Training with %s, window size = %d and %d training sentences\" % (\"SkipGram\" if sg else \"CBOW\", window, n_sentences))\n",
        "    trained_w2v = gen_trained_w2v(clean_sentences[:n_sentences], window=window, sg=sg)\n",
        "    errors = compare(trained_w2v, vocab)\n",
        "    error_avg = sum(errors.values())/len(errors)\n",
        "    y_axis.append(error_avg)\n",
        "\n",
        "    print(\"Error Average: %.8f\" % error_avg)\n",
        "\n",
        "plt.plot(input_range, y_axis)\n",
        "plt.title(\"Erro por tamanho da entrada (CBOW)\")\n",
        "plt.show()\n"
      ],
      "metadata": {
        "colab": {
          "base_uri": "https://localhost:8080/",
          "height": 1000
        },
        "id": "cw7Z6-zTG3Fy",
        "outputId": "8982374d-d91b-43e7-feb9-a03435450bd2"
      },
      "execution_count": null,
      "outputs": [
        {
          "output_type": "stream",
          "name": "stdout",
          "text": [
            "Training with CBOW, window size = 4 and 10 training sentences\n",
            "Error Average: 0.00943977\n",
            "Training with CBOW, window size = 4 and 11 training sentences\n",
            "Error Average: 0.00033608\n",
            "Training with CBOW, window size = 4 and 12 training sentences\n",
            "Error Average: 0.00027960\n",
            "Training with CBOW, window size = 4 and 13 training sentences\n",
            "Error Average: 0.00016600\n",
            "Training with CBOW, window size = 4 and 14 training sentences\n",
            "Error Average: 0.00023782\n",
            "Training with CBOW, window size = 4 and 15 training sentences\n",
            "Error Average: 0.00028722\n",
            "Training with CBOW, window size = 4 and 16 training sentences\n",
            "Error Average: 0.00025585\n",
            "Training with CBOW, window size = 4 and 17 training sentences\n",
            "Error Average: 0.00028067\n",
            "Training with CBOW, window size = 4 and 18 training sentences\n",
            "Error Average: 0.00024097\n",
            "Training with CBOW, window size = 4 and 19 training sentences\n",
            "Error Average: 0.00025945\n",
            "Training with CBOW, window size = 4 and 20 training sentences\n",
            "Error Average: 0.00025720\n",
            "Training with CBOW, window size = 4 and 21 training sentences\n",
            "Error Average: 0.00024992\n",
            "Training with CBOW, window size = 4 and 22 training sentences\n",
            "Error Average: 0.00023693\n",
            "Training with CBOW, window size = 4 and 23 training sentences\n",
            "Error Average: 0.00026777\n",
            "Training with CBOW, window size = 4 and 24 training sentences\n",
            "Error Average: 0.00027331\n",
            "Training with CBOW, window size = 4 and 25 training sentences\n",
            "Error Average: 0.00024292\n",
            "Training with CBOW, window size = 4 and 26 training sentences\n",
            "Error Average: 0.00026684\n",
            "Training with CBOW, window size = 4 and 27 training sentences\n",
            "Error Average: 0.00024560\n",
            "Training with CBOW, window size = 4 and 28 training sentences\n",
            "Error Average: 0.00024199\n",
            "Training with CBOW, window size = 4 and 29 training sentences\n",
            "Error Average: 0.00026045\n",
            "Training with CBOW, window size = 4 and 30 training sentences\n",
            "Error Average: 0.00026001\n",
            "Training with CBOW, window size = 4 and 31 training sentences\n",
            "Error Average: 0.00024009\n",
            "Training with CBOW, window size = 4 and 32 training sentences\n",
            "Error Average: 0.00025678\n",
            "Training with CBOW, window size = 4 and 33 training sentences\n",
            "Error Average: 0.00024649\n",
            "Training with CBOW, window size = 4 and 34 training sentences\n",
            "Error Average: 0.00023988\n",
            "Training with CBOW, window size = 4 and 35 training sentences\n",
            "Error Average: 0.00026442\n"
          ]
        },
        {
          "output_type": "display_data",
          "data": {
            "image/png": "[encoded data removed]",
            "text/plain": [
              "<Figure size 432x288 with 1 Axes>"
            ]
          },
          "metadata": {
            "needs_background": "light"
          }
        }
      ]
    },
    {
      "cell_type": "markdown",
      "source": [
        "## SkipGram"
      ],
      "metadata": {
        "id": "Hny5gRNANbWW"
      }
    },
    {
      "cell_type": "code",
      "source": [
        "# SkipGram variando tamanho da janela\n",
        "sg = 1\n",
        "window_range = range(1, 10)\n",
        "y_axis = []\n",
        "\n",
        "n_sentences = len(clean_sentences)\n",
        "for window in window_range:\n",
        "    print(\"Training with %s, window size = %d and %d training sentences\" % (\"SkipGram\" if sg else \"CBOW\", window, n_sentences))\n",
        "    trained_w2v = gen_trained_w2v(clean_sentences[:n_sentences], window=window, sg=sg)\n",
        "    errors = compare(trained_w2v, vocab)\n",
        "    error_avg = sum(errors.values())/len(errors)\n",
        "    y_axis.append(error_avg)\n",
        "\n",
        "    print(\"Error Average: %.8f\" % error_avg)\n",
        "\n",
        "plt.plot(window_range, y_axis)\n",
        "plt.title(\"Erro por tamanho da janela (SkipGram)\")\n",
        "plt.show()\n"
      ],
      "metadata": {
        "colab": {
          "base_uri": "https://localhost:8080/",
          "height": 593
        },
        "outputId": "d0a94349-7f67-4cc3-81af-e6432f98d6a9",
        "id": "GEAi1RluNbWc"
      },
      "execution_count": null,
      "outputs": [
        {
          "output_type": "stream",
          "name": "stdout",
          "text": [
            "Training with SkipGram, window size = 1 and 81 training sentences\n",
            "Error Average: 0.00077489\n",
            "Training with SkipGram, window size = 2 and 81 training sentences\n",
            "Error Average: 0.00100258\n",
            "Training with SkipGram, window size = 3 and 81 training sentences\n",
            "Error Average: 0.00153596\n",
            "Training with SkipGram, window size = 4 and 81 training sentences\n",
            "Error Average: 0.00306610\n",
            "Training with SkipGram, window size = 5 and 81 training sentences\n",
            "Error Average: 0.00762441\n",
            "Training with SkipGram, window size = 6 and 81 training sentences\n",
            "Error Average: 0.02507599\n",
            "Training with SkipGram, window size = 7 and 81 training sentences\n",
            "Error Average: 0.06265539\n",
            "Training with SkipGram, window size = 8 and 81 training sentences\n",
            "Error Average: 0.11787343\n",
            "Training with SkipGram, window size = 9 and 81 training sentences\n",
            "Error Average: 0.17539597\n"
          ]
        },
        {
          "output_type": "display_data",
          "data": {
            "image/png": "[encoded data removed]",
            "text/plain": [
              "<Figure size 432x288 with 1 Axes>"
            ]
          },
          "metadata": {
            "needs_background": "light"
          }
        }
      ]
    },
    {
      "cell_type": "code",
      "source": [
        "# SkipGram variando tamanho da entrada\n",
        "sg = 1\n",
        "window = 4\n",
        "input_range = range(10, 36)\n",
        "y_axis = []\n",
        "\n",
        "for n_sentences in input_range:\n",
        "    print(\"Training with %s, window size = %d and %d training sentences\" % (\"SkipGram\" if sg else \"CBOW\", window, n_sentences))\n",
        "    trained_w2v = gen_trained_w2v(clean_sentences[:n_sentences], window=window, sg=sg)\n",
        "    errors = compare(trained_w2v, vocab)\n",
        "    error_avg = sum(errors.values())/len(errors)\n",
        "    y_axis.append(error_avg)\n",
        "\n",
        "    print(\"Error Average: %.8f\" % error_avg)\n",
        "\n",
        "plt.plot(input_range, y_axis)\n",
        "plt.title(\"Erro por tamanho da entrada (SkipGram)\")\n",
        "plt.show()\n"
      ],
      "metadata": {
        "colab": {
          "base_uri": "https://localhost:8080/",
          "height": 1000
        },
        "id": "YBoJUCj5NbWc",
        "outputId": "af08ba5b-db8c-4d4a-e0fa-8c7164a48707"
      },
      "execution_count": null,
      "outputs": [
        {
          "output_type": "stream",
          "name": "stdout",
          "text": [
            "Training with SkipGram, window size = 4 and 10 training sentences\n",
            "Error Average: 0.00053807\n",
            "Training with SkipGram, window size = 4 and 11 training sentences\n",
            "Error Average: 0.00048757\n",
            "Training with SkipGram, window size = 4 and 12 training sentences\n",
            "Error Average: 0.00057054\n",
            "Training with SkipGram, window size = 4 and 13 training sentences\n",
            "Error Average: 0.00060044\n",
            "Training with SkipGram, window size = 4 and 14 training sentences\n",
            "Error Average: 0.00061926\n",
            "Training with SkipGram, window size = 4 and 15 training sentences\n",
            "Error Average: 0.00066828\n",
            "Training with SkipGram, window size = 4 and 16 training sentences\n",
            "Error Average: 0.00072720\n",
            "Training with SkipGram, window size = 4 and 17 training sentences\n",
            "Error Average: 0.00075325\n",
            "Training with SkipGram, window size = 4 and 18 training sentences\n",
            "Error Average: 0.00080954\n",
            "Training with SkipGram, window size = 4 and 19 training sentences\n",
            "Error Average: 0.00087550\n",
            "Training with SkipGram, window size = 4 and 20 training sentences\n",
            "Error Average: 0.00092317\n",
            "Training with SkipGram, window size = 4 and 21 training sentences\n",
            "Error Average: 0.00086723\n",
            "Training with SkipGram, window size = 4 and 22 training sentences\n",
            "Error Average: 0.00093547\n",
            "Training with SkipGram, window size = 4 and 23 training sentences\n",
            "Error Average: 0.00102359\n",
            "Training with SkipGram, window size = 4 and 24 training sentences\n",
            "Error Average: 0.00103390\n",
            "Training with SkipGram, window size = 4 and 25 training sentences\n",
            "Error Average: 0.00102368\n",
            "Training with SkipGram, window size = 4 and 26 training sentences\n",
            "Error Average: 0.00108664\n",
            "Training with SkipGram, window size = 4 and 27 training sentences\n",
            "Error Average: 0.00105374\n",
            "Training with SkipGram, window size = 4 and 28 training sentences\n",
            "Error Average: 0.00104917\n",
            "Training with SkipGram, window size = 4 and 29 training sentences\n",
            "Error Average: 0.00111241\n",
            "Training with SkipGram, window size = 4 and 30 training sentences\n",
            "Error Average: 0.00120612\n",
            "Training with SkipGram, window size = 4 and 31 training sentences\n",
            "Error Average: 0.00114552\n",
            "Training with SkipGram, window size = 4 and 32 training sentences\n",
            "Error Average: 0.00113559\n",
            "Training with SkipGram, window size = 4 and 33 training sentences\n",
            "Error Average: 0.00118561\n",
            "Training with SkipGram, window size = 4 and 34 training sentences\n",
            "Error Average: 0.00125339\n",
            "Training with SkipGram, window size = 4 and 35 training sentences\n",
            "Error Average: 0.00125801\n"
          ]
        },
        {
          "output_type": "display_data",
          "data": {
            "image/png": "[encoded data removed]",
            "text/plain": [
              "<Figure size 432x288 with 1 Axes>"
            ]
          },
          "metadata": {
            "needs_background": "light"
          }
        }
      ]
    }
  ]
}